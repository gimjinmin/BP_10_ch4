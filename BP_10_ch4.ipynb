{
  "nbformat": 4,
  "nbformat_minor": 0,
  "metadata": {
    "colab": {
      "provenance": [],
      "authorship_tag": "ABX9TyMgYdGDnszVR2TgZ8c0AeJo",
      "include_colab_link": true
    },
    "kernelspec": {
      "name": "python3",
      "display_name": "Python 3"
    },
    "language_info": {
      "name": "python"
    }
  },
  "cells": [
    {
      "cell_type": "markdown",
      "metadata": {
        "id": "view-in-github",
        "colab_type": "text"
      },
      "source": [
        "<a href=\"https://colab.research.google.com/github/gimjinmin/BP_10_ch4/blob/main/BP_10_ch4.ipynb\" target=\"_parent\"><img src=\"https://colab.research.google.com/assets/colab-badge.svg\" alt=\"Open In Colab\"/></a>"
      ]
    },
    {
      "cell_type": "code",
      "execution_count": 1,
      "metadata": {
        "colab": {
          "base_uri": "https://localhost:8080/"
        },
        "id": "NxxIczH1WNDx",
        "outputId": "7fdfeb77-2c99-418f-d4e2-d693b553a5e7"
      },
      "outputs": [
        {
          "output_type": "stream",
          "name": "stdout",
          "text": [
            "나는 12개의 사과를 먹었다.\n"
          ]
        }
      ],
      "source": [
        "'나는 ' + str(12) + '개의 사과를 먹었다.'\n",
        "print('나는 ' + '12' + '개의 사과를 먹었다.')"
      ]
    },
    {
      "cell_type": "code",
      "source": [
        "\"apple\" + \"grape\"\n",
        "\n",
        "\"apple\" * 3"
      ],
      "metadata": {
        "colab": {
          "base_uri": "https://localhost:8080/",
          "height": 35
        },
        "id": "7ob6NaYVd3AU",
        "outputId": "31e47c0b-8405-4dca-aa38-265a566e4dcb"
      },
      "execution_count": 2,
      "outputs": [
        {
          "output_type": "execute_result",
          "data": {
            "text/plain": [
              "'appleappleapple'"
            ],
            "application/vnd.google.colaboratory.intrinsic+json": {
              "type": "string"
            }
          },
          "metadata": {},
          "execution_count": 2
        }
      ]
    },
    {
      "cell_type": "code",
      "source": [
        "text=input(\"문자열을 입력하시오 : \")\n",
        "print(text[0:2]+text[-2:])"
      ],
      "metadata": {
        "colab": {
          "base_uri": "https://localhost:8080/"
        },
        "id": "dOatPhL4eCVJ",
        "outputId": "e6d6b567-08ab-4d49-82dd-53dd1bda871a"
      },
      "execution_count": 3,
      "outputs": [
        {
          "output_type": "stream",
          "name": "stdout",
          "text": [
            "문자열을 입력하시오 : python\n",
            "pyon\n"
          ]
        }
      ]
    },
    {
      "cell_type": "code",
      "source": [
        "text=input(\"문자열을 입력하시오 : \")\n",
        "text2=\"하는 중\"\n",
        "print(text+text2)"
      ],
      "metadata": {
        "colab": {
          "base_uri": "https://localhost:8080/"
        },
        "id": "HDVFgc58eM8K",
        "outputId": "a3d25ec5-fa88-4804-8c66-1f4425ecae11"
      },
      "execution_count": 4,
      "outputs": [
        {
          "output_type": "stream",
          "name": "stdout",
          "text": [
            "문자열을 입력하시오 : 청소\n",
            "청소하는 중\n"
          ]
        }
      ]
    },
    {
      "cell_type": "code",
      "source": [
        "# 맨 처음과 마지막 기호만 추가됩니다.\n",
        "simbol =input(\"기호를 입력하세요 : \")\n",
        "text =input(\"문자열을 입력하시오 : \")\n",
        " \n",
        "print(simbol[:1]+text+simbol[-1:])"
      ],
      "metadata": {
        "colab": {
          "base_uri": "https://localhost:8080/"
        },
        "id": "mcQZqIsueyT5",
        "outputId": "666b61a0-660f-4d7c-8df6-3b64b6f14d29"
      },
      "execution_count": 5,
      "outputs": [
        {
          "output_type": "stream",
          "name": "stdout",
          "text": [
            "기호를 입력하세요 : []\n",
            "문자열을 입력하시오 : python\n",
            "[python]\n"
          ]
        }
      ]
    },
    {
      "cell_type": "code",
      "source": [
        "listNum =[\"1\", \"2\", \"3\", \"4\"]\n",
        "sum= int(listNum[0]) + int(listNum[1]) + int(listNum[2]) + int(listNum[3])\n",
        " \n",
        "print(\"리스트 = \", listNum)\n",
        "print(\"리스트 숫자들의 합 = \", sum)"
      ],
      "metadata": {
        "colab": {
          "base_uri": "https://localhost:8080/"
        },
        "id": "aG9AKNH9f3pK",
        "outputId": "286eba50-32de-45b6-aa46-a9b6f5c733a7"
      },
      "execution_count": 6,
      "outputs": [
        {
          "output_type": "stream",
          "name": "stdout",
          "text": [
            "리스트 =  ['1', '2', '3', '4']\n",
            "리스트 숫자들의 합 =  10\n"
          ]
        }
      ]
    }
  ]
}